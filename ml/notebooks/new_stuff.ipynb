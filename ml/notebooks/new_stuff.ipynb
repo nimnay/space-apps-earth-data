{
 "cells": [
  {
   "cell_type": "code",
   "execution_count": 8,
   "id": "ad087a13",
   "metadata": {},
   "outputs": [
    {
     "name": "stdout",
     "output_type": "stream",
     "text": [
      "OMI NO2 granule URLs for 2024-10-01 :\n",
      "https://acdisc.gesdisc.eosdis.nasa.gov/opendap/HDF-EOS5/ncml/Aura_OMI_Level3/OMNO2d.003/2024/OMI-Aura_L3-OMNO2d_2024m1001_v003-2024m1110t123552.he5.ncml\n"
     ]
    },
    {
     "ename": "HTTPError",
     "evalue": "403 Client Error: 403 for url: https://acdisc.gesdisc.eosdis.nasa.gov/opendap/HDF-EOS5/ncml/Aura_OMI_Level3/OMNO2d.003/2024/OMI-Aura_L3-OMNO2d_2024m1001_v003-2024m1110t123552.he5.ncml",
     "output_type": "error",
     "traceback": [
      "\u001b[31m---------------------------------------------------------------------------\u001b[39m",
      "\u001b[31mHTTPError\u001b[39m                                 Traceback (most recent call last)",
      "\u001b[36mCell\u001b[39m\u001b[36m \u001b[39m\u001b[32mIn[8]\u001b[39m\u001b[32m, line 59\u001b[39m\n\u001b[32m     57\u001b[39m     granule_url = urls[\u001b[32m0\u001b[39m]\n\u001b[32m     58\u001b[39m     out_file = \u001b[33m'\u001b[39m\u001b[33momi_no2_sample.h5\u001b[39m\u001b[33m'\u001b[39m\n\u001b[32m---> \u001b[39m\u001b[32m59\u001b[39m     \u001b[43mdownload_granule\u001b[49m\u001b[43m(\u001b[49m\u001b[43mgranule_url\u001b[49m\u001b[43m,\u001b[49m\u001b[43m \u001b[49m\u001b[43musername\u001b[49m\u001b[43m,\u001b[49m\u001b[43m \u001b[49m\u001b[43mpassword\u001b[49m\u001b[43m,\u001b[49m\u001b[43m \u001b[49m\u001b[43mout_file\u001b[49m\u001b[43m)\u001b[49m\n\u001b[32m     60\u001b[39m \u001b[38;5;28;01melse\u001b[39;00m:\n\u001b[32m     61\u001b[39m     \u001b[38;5;28mprint\u001b[39m(\u001b[33m'\u001b[39m\u001b[33mNo granule URLs found for this date/bbox.\u001b[39m\u001b[33m'\u001b[39m)\n",
      "\u001b[36mCell\u001b[39m\u001b[36m \u001b[39m\u001b[32mIn[8]\u001b[39m\u001b[32m, line 36\u001b[39m, in \u001b[36mdownload_granule\u001b[39m\u001b[34m(url, username, password, out_path)\u001b[39m\n\u001b[32m     34\u001b[39m \u001b[38;5;250m\u001b[39m\u001b[33;03m\"\"\"Download a granule file with Earthdata authentication.\"\"\"\u001b[39;00m\n\u001b[32m     35\u001b[39m \u001b[38;5;28;01mwith\u001b[39;00m requests.get(url, auth=HTTPBasicAuth(username, password), stream=\u001b[38;5;28;01mTrue\u001b[39;00m) \u001b[38;5;28;01mas\u001b[39;00m r:\n\u001b[32m---> \u001b[39m\u001b[32m36\u001b[39m     \u001b[43mr\u001b[49m\u001b[43m.\u001b[49m\u001b[43mraise_for_status\u001b[49m\u001b[43m(\u001b[49m\u001b[43m)\u001b[49m\n\u001b[32m     37\u001b[39m     \u001b[38;5;28;01mwith\u001b[39;00m \u001b[38;5;28mopen\u001b[39m(out_path, \u001b[33m'\u001b[39m\u001b[33mwb\u001b[39m\u001b[33m'\u001b[39m) \u001b[38;5;28;01mas\u001b[39;00m f:\n\u001b[32m     38\u001b[39m         \u001b[38;5;28;01mfor\u001b[39;00m chunk \u001b[38;5;129;01min\u001b[39;00m r.iter_content(chunk_size=\u001b[32m8192\u001b[39m):\n",
      "\u001b[36mFile \u001b[39m\u001b[32mc:\\Users\\atdok\\anaconda3\\envs\\space-apps-earth-data\\Lib\\site-packages\\requests\\models.py:1026\u001b[39m, in \u001b[36mResponse.raise_for_status\u001b[39m\u001b[34m(self)\u001b[39m\n\u001b[32m   1021\u001b[39m     http_error_msg = (\n\u001b[32m   1022\u001b[39m         \u001b[33mf\u001b[39m\u001b[33m\"\u001b[39m\u001b[38;5;132;01m{\u001b[39;00m\u001b[38;5;28mself\u001b[39m.status_code\u001b[38;5;132;01m}\u001b[39;00m\u001b[33m Server Error: \u001b[39m\u001b[38;5;132;01m{\u001b[39;00mreason\u001b[38;5;132;01m}\u001b[39;00m\u001b[33m for url: \u001b[39m\u001b[38;5;132;01m{\u001b[39;00m\u001b[38;5;28mself\u001b[39m.url\u001b[38;5;132;01m}\u001b[39;00m\u001b[33m\"\u001b[39m\n\u001b[32m   1023\u001b[39m     )\n\u001b[32m   1025\u001b[39m \u001b[38;5;28;01mif\u001b[39;00m http_error_msg:\n\u001b[32m-> \u001b[39m\u001b[32m1026\u001b[39m     \u001b[38;5;28;01mraise\u001b[39;00m HTTPError(http_error_msg, response=\u001b[38;5;28mself\u001b[39m)\n",
      "\u001b[31mHTTPError\u001b[39m: 403 Client Error: 403 for url: https://acdisc.gesdisc.eosdis.nasa.gov/opendap/HDF-EOS5/ncml/Aura_OMI_Level3/OMNO2d.003/2024/OMI-Aura_L3-OMNO2d_2024m1001_v003-2024m1110t123552.he5.ncml"
     ]
    }
   ],
   "source": [
    "import requests\n",
    "from requests.auth import HTTPBasicAuth\n",
    "from datetime import datetime, timedelta\n",
    "import pandas as pd\n",
    "import getpass\n",
    "\n",
    "def search_omi_no2_granules(date, bbox, page_size=5):\n",
    "    \"\"\"\n",
    "    Search NASA Earthdata CMR API for OMI NO2 granules.\n",
    "    date: 'YYYY-MM-DD'\n",
    "    bbox: [west, south, east, north] (e.g., [-125, 25, -65, 50] for CONUS)\n",
    "    Returns: List of download URLs\n",
    "    \"\"\"\n",
    "    cmr_url = \"https://cmr.earthdata.nasa.gov/search/granules.json\"\n",
    "    params = {\n",
    "        'short_name': 'OMNO2d',  # OMI/Aura NO2 Daily L3 Global Gridded 0.25x0.25 degree V003\n",
    "        'version': '003',\n",
    "        'temporal': f\"{date}T00:00:00Z,{date}T23:59:59Z\",\n",
    "        'bounding_box': ','.join(map(str, bbox)),\n",
    "        'page_size': page_size,\n",
    "        'provider': 'GES_DISC'\n",
    "    }\n",
    "    response = requests.get(cmr_url, params=params)\n",
    "    response.raise_for_status()\n",
    "    results = response.json()['feed']['entry']\n",
    "    urls = []\n",
    "    for granule in results:\n",
    "        for link in granule.get('links', []):\n",
    "            if link.get('type', '').startswith('application/x-hdf') or link.get('type', '').startswith('application/octet-stream'):\n",
    "                urls.append(link['href'])\n",
    "    return urls\n",
    "\n",
    "def download_granule(url, username, password, out_path):\n",
    "    \"\"\"Download a granule file with Earthdata authentication.\"\"\"\n",
    "    with requests.get(url, auth=HTTPBasicAuth(username, password), stream=True) as r:\n",
    "        r.raise_for_status()\n",
    "        with open(out_path, 'wb') as f:\n",
    "            for chunk in r.iter_content(chunk_size=8192):\n",
    "                f.write(chunk)\n",
    "    print(f\"Downloaded: {out_path}\")\n",
    "\n",
    "# Prompt for credentials\n",
    "username = input('Enter your NASA Earthdata username: ')\n",
    "password = getpass.getpass('Enter your NASA Earthdata password: ')\n",
    "\n",
    "# Example usage:\n",
    "date = '2024-10-01'\n",
    "# Example bounding box for Los Angeles area\n",
    "bbox = [-119, 33, -117, 35]\n",
    "urls = search_omi_no2_granules(date, bbox)\n",
    "print('OMI NO2 granule URLs for', date, ':')\n",
    "for url in urls:\n",
    "    print(url)\n",
    "\n",
    "# Download the first granule as an example (if available)\n",
    "if urls:\n",
    "    granule_url = urls[0]\n",
    "    out_file = 'omi_no2_sample.h5'\n",
    "    download_granule(granule_url, username, password, out_file)\n",
    "else:\n",
    "    print('No granule URLs found for this date/bbox.')\n",
    "\n",
    "# Convert the URLs to a DataFrame and print it\n",
    "df = pd.DataFrame({'granule_url': urls})\n",
    "print('\\nGranule DataFrame:')\n",
    "print(df)"
   ]
  }
 ],
 "metadata": {
  "kernelspec": {
   "display_name": "space-apps-earth-data",
   "language": "python",
   "name": "python3"
  },
  "language_info": {
   "codemirror_mode": {
    "name": "ipython",
    "version": 3
   },
   "file_extension": ".py",
   "mimetype": "text/x-python",
   "name": "python",
   "nbconvert_exporter": "python",
   "pygments_lexer": "ipython3",
   "version": "3.11.9"
  }
 },
 "nbformat": 4,
 "nbformat_minor": 5
}
